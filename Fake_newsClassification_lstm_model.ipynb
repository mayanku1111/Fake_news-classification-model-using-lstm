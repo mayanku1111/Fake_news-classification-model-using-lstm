{
  "cells": [
    {
      "cell_type": "markdown",
      "metadata": {
        "id": "view-in-github",
        "colab_type": "text"
      },
      "source": [
        "<a href=\"https://colab.research.google.com/github/mayanku1111/Fake_news-classification-model-using-lstm/blob/main/Fake_newsClassification_lstm_model.ipynb\" target=\"_parent\"><img src=\"https://colab.research.google.com/assets/colab-badge.svg\" alt=\"Open In Colab\"/></a>"
      ]
    },
    {
      "cell_type": "code",
      "execution_count": 1,
      "id": "19992c9c",
      "metadata": {
        "id": "19992c9c"
      },
      "outputs": [],
      "source": [
        "import pandas as pd"
      ]
    },
    {
      "cell_type": "code",
      "execution_count": null,
      "id": "b75bdad9",
      "metadata": {
        "id": "b75bdad9"
      },
      "outputs": [],
      "source": [
        "df=pd.read_csv('train.csv')"
      ]
    },
    {
      "cell_type": "code",
      "execution_count": null,
      "id": "d18192e2",
      "metadata": {
        "id": "d18192e2",
        "outputId": "1af6e08b-447b-4d48-e0c3-993e8970d7d2"
      },
      "outputs": [
        {
          "data": {
            "text/html": [
              "<div>\n",
              "<style scoped>\n",
              "    .dataframe tbody tr th:only-of-type {\n",
              "        vertical-align: middle;\n",
              "    }\n",
              "\n",
              "    .dataframe tbody tr th {\n",
              "        vertical-align: top;\n",
              "    }\n",
              "\n",
              "    .dataframe thead th {\n",
              "        text-align: right;\n",
              "    }\n",
              "</style>\n",
              "<table border=\"1\" class=\"dataframe\">\n",
              "  <thead>\n",
              "    <tr style=\"text-align: right;\">\n",
              "      <th></th>\n",
              "      <th>id</th>\n",
              "      <th>title</th>\n",
              "      <th>author</th>\n",
              "      <th>text</th>\n",
              "      <th>label</th>\n",
              "    </tr>\n",
              "  </thead>\n",
              "  <tbody>\n",
              "    <tr>\n",
              "      <th>0</th>\n",
              "      <td>0</td>\n",
              "      <td>House Dem Aide: We Didn’t Even See Comey’s Let...</td>\n",
              "      <td>Darrell Lucus</td>\n",
              "      <td>House Dem Aide: We Didn’t Even See Comey’s Let...</td>\n",
              "      <td>1</td>\n",
              "    </tr>\n",
              "    <tr>\n",
              "      <th>1</th>\n",
              "      <td>1</td>\n",
              "      <td>FLYNN: Hillary Clinton, Big Woman on Campus - ...</td>\n",
              "      <td>Daniel J. Flynn</td>\n",
              "      <td>Ever get the feeling your life circles the rou...</td>\n",
              "      <td>0</td>\n",
              "    </tr>\n",
              "    <tr>\n",
              "      <th>2</th>\n",
              "      <td>2</td>\n",
              "      <td>Why the Truth Might Get You Fired</td>\n",
              "      <td>Consortiumnews.com</td>\n",
              "      <td>Why the Truth Might Get You Fired October 29, ...</td>\n",
              "      <td>1</td>\n",
              "    </tr>\n",
              "    <tr>\n",
              "      <th>3</th>\n",
              "      <td>3</td>\n",
              "      <td>15 Civilians Killed In Single US Airstrike Hav...</td>\n",
              "      <td>Jessica Purkiss</td>\n",
              "      <td>Videos 15 Civilians Killed In Single US Airstr...</td>\n",
              "      <td>1</td>\n",
              "    </tr>\n",
              "    <tr>\n",
              "      <th>4</th>\n",
              "      <td>4</td>\n",
              "      <td>Iranian woman jailed for fictional unpublished...</td>\n",
              "      <td>Howard Portnoy</td>\n",
              "      <td>Print \\nAn Iranian woman has been sentenced to...</td>\n",
              "      <td>1</td>\n",
              "    </tr>\n",
              "  </tbody>\n",
              "</table>\n",
              "</div>"
            ],
            "text/plain": [
              "   id                                              title              author  \\\n",
              "0   0  House Dem Aide: We Didn’t Even See Comey’s Let...       Darrell Lucus   \n",
              "1   1  FLYNN: Hillary Clinton, Big Woman on Campus - ...     Daniel J. Flynn   \n",
              "2   2                  Why the Truth Might Get You Fired  Consortiumnews.com   \n",
              "3   3  15 Civilians Killed In Single US Airstrike Hav...     Jessica Purkiss   \n",
              "4   4  Iranian woman jailed for fictional unpublished...      Howard Portnoy   \n",
              "\n",
              "                                                text  label  \n",
              "0  House Dem Aide: We Didn’t Even See Comey’s Let...      1  \n",
              "1  Ever get the feeling your life circles the rou...      0  \n",
              "2  Why the Truth Might Get You Fired October 29, ...      1  \n",
              "3  Videos 15 Civilians Killed In Single US Airstr...      1  \n",
              "4  Print \\nAn Iranian woman has been sentenced to...      1  "
            ]
          },
          "execution_count": 4,
          "metadata": {},
          "output_type": "execute_result"
        }
      ],
      "source": [
        "df.head()"
      ]
    },
    {
      "cell_type": "code",
      "execution_count": null,
      "id": "048f4a1e",
      "metadata": {
        "id": "048f4a1e"
      },
      "outputs": [],
      "source": [
        "import tensorflow as tf"
      ]
    },
    {
      "cell_type": "code",
      "execution_count": null,
      "id": "e345b4f1",
      "metadata": {
        "id": "e345b4f1",
        "outputId": "df85503d-89be-435f-b0ce-2af601e59065"
      },
      "outputs": [
        {
          "data": {
            "text/plain": [
              "'2.15.0'"
            ]
          },
          "execution_count": 8,
          "metadata": {},
          "output_type": "execute_result"
        }
      ],
      "source": [
        "tf.__version__"
      ]
    },
    {
      "cell_type": "code",
      "execution_count": null,
      "id": "56f1f566",
      "metadata": {
        "id": "56f1f566"
      },
      "outputs": [],
      "source": [
        "from tensorflow.keras.layers import Embedding\n",
        "from tensorflow.keras.preprocessing.sequence import pad_sequences\n",
        "from tensorflow.keras.models import Sequential\n",
        "from tensorflow.keras.preprocessing.text import one_hot\n",
        "from tensorflow.keras.layers import LSTM\n",
        "from tensorflow.keras.layers import Dense"
      ]
    },
    {
      "cell_type": "code",
      "execution_count": null,
      "id": "63b424aa",
      "metadata": {
        "id": "63b424aa"
      },
      "outputs": [],
      "source": [
        "import nltk\n",
        "import re\n",
        "from nltk.corpus import stopwords"
      ]
    },
    {
      "cell_type": "code",
      "execution_count": null,
      "id": "d1e6c160",
      "metadata": {
        "id": "d1e6c160",
        "outputId": "498f7ab0-4d2f-47f2-e192-6d8f6e5a2890"
      },
      "outputs": [
        {
          "name": "stderr",
          "output_type": "stream",
          "text": [
            "[nltk_data] Downloading package stopwords to\n",
            "[nltk_data]     /Users/mayankkumar/nltk_data...\n",
            "[nltk_data]   Unzipping corpora/stopwords.zip.\n"
          ]
        },
        {
          "data": {
            "text/plain": [
              "True"
            ]
          },
          "execution_count": 14,
          "metadata": {},
          "output_type": "execute_result"
        }
      ],
      "source": [
        "nltk.download('stopwords')"
      ]
    },
    {
      "cell_type": "code",
      "execution_count": null,
      "id": "f57d7caa",
      "metadata": {
        "id": "f57d7caa"
      },
      "outputs": [],
      "source": [
        "df = df.dropna()"
      ]
    },
    {
      "cell_type": "code",
      "execution_count": null,
      "id": "24fcc7ac",
      "metadata": {
        "id": "24fcc7ac",
        "outputId": "621be1c3-a2bf-4d60-8d92-f1e3149042c9"
      },
      "outputs": [
        {
          "data": {
            "text/plain": [
              "(18285, 5)"
            ]
          },
          "execution_count": 19,
          "metadata": {},
          "output_type": "execute_result"
        }
      ],
      "source": [
        "df.shape\n"
      ]
    },
    {
      "cell_type": "code",
      "execution_count": null,
      "id": "29f2a44f",
      "metadata": {
        "id": "29f2a44f"
      },
      "outputs": [],
      "source": [
        "X=df.drop('label',axis=1)\n",
        "y=df['label']"
      ]
    },
    {
      "cell_type": "code",
      "execution_count": null,
      "id": "e5114049",
      "metadata": {
        "id": "e5114049",
        "outputId": "6977ff88-05ce-457c-9789-862e3c8bf16c"
      },
      "outputs": [
        {
          "data": {
            "text/plain": [
              "(18285, 4)"
            ]
          },
          "execution_count": 21,
          "metadata": {},
          "output_type": "execute_result"
        }
      ],
      "source": [
        "X.shape"
      ]
    },
    {
      "cell_type": "code",
      "execution_count": null,
      "id": "a72f41c9",
      "metadata": {
        "id": "a72f41c9",
        "outputId": "e715ab9d-440c-4bdf-9e3b-50704461e94b"
      },
      "outputs": [
        {
          "data": {
            "text/plain": [
              "(18285,)"
            ]
          },
          "execution_count": 22,
          "metadata": {},
          "output_type": "execute_result"
        }
      ],
      "source": [
        "y.shape"
      ]
    },
    {
      "cell_type": "code",
      "execution_count": null,
      "id": "c9e572f3",
      "metadata": {
        "id": "c9e572f3"
      },
      "outputs": [],
      "source": [
        "voc_size=5000"
      ]
    },
    {
      "cell_type": "code",
      "execution_count": null,
      "id": "086152a6",
      "metadata": {
        "id": "086152a6"
      },
      "outputs": [],
      "source": [
        "messages=X.copy()"
      ]
    },
    {
      "cell_type": "code",
      "execution_count": null,
      "id": "1bf2a203",
      "metadata": {
        "id": "1bf2a203",
        "outputId": "55baa2f3-43eb-4017-b3bd-b2a200da8518"
      },
      "outputs": [
        {
          "data": {
            "text/plain": [
              "'FLYNN: Hillary Clinton, Big Woman on Campus - Breitbart'"
            ]
          },
          "execution_count": 25,
          "metadata": {},
          "output_type": "execute_result"
        }
      ],
      "source": [
        "messages['title'][1]"
      ]
    },
    {
      "cell_type": "code",
      "execution_count": null,
      "id": "c2c6d6a3",
      "metadata": {
        "id": "c2c6d6a3"
      },
      "outputs": [],
      "source": [
        "messages.reset_index(inplace=True)"
      ]
    },
    {
      "cell_type": "code",
      "execution_count": 2,
      "id": "d49a6099",
      "metadata": {
        "id": "d49a6099"
      },
      "outputs": [],
      "source": [
        "from nltk.stem.porter import PorterStemmer\n",
        "ps = PorterStemmer()\n",
        "corpus = []\n",
        "for i in range(0, len(messages)):\n",
        "    print(i)\n",
        "    review = re.sub('[^a-zA-Z]', ' ', messages['title'][i])\n",
        "    review = review.lower()\n",
        "    review = review.split()\n",
        "\n",
        "    review = [ps.stem(word) for word in review if not word in stopwords.words('english')]\n",
        "    review = ' '.join(review)\n",
        "    corpus.append(review)"
      ]
    },
    {
      "cell_type": "code",
      "execution_count": 3,
      "id": "7e3cee0a",
      "metadata": {
        "id": "7e3cee0a"
      },
      "outputs": [],
      "source": [
        "corpus"
      ]
    },
    {
      "cell_type": "code",
      "execution_count": 4,
      "id": "b1d3b174",
      "metadata": {
        "id": "b1d3b174"
      },
      "outputs": [],
      "source": [
        "onehot_repr=[one_hot(words,voc_size)for words in corpus]\n",
        "onehot_repr"
      ]
    },
    {
      "cell_type": "markdown",
      "id": "36e97ef8",
      "metadata": {
        "id": "36e97ef8"
      },
      "source": [
        "# embeddings now"
      ]
    },
    {
      "cell_type": "code",
      "execution_count": null,
      "id": "bb7964ff",
      "metadata": {
        "id": "bb7964ff",
        "outputId": "2a891d4d-9ab4-4ac4-df4b-0467eae4a7c7"
      },
      "outputs": [
        {
          "name": "stdout",
          "output_type": "stream",
          "text": [
            "[[   0    0    0 ...  121 4533 4130]\n",
            " [   0    0    0 ... 1517 1896 2568]\n",
            " [   0    0    0 ... 4364 2476 4882]\n",
            " ...\n",
            " [   0    0    0 ... 2836 4948 3522]\n",
            " [   0    0    0 ... 1655 1681 3083]\n",
            " [   0    0    0 ... 3153 3673 4840]]\n"
          ]
        }
      ],
      "source": [
        "sent_length=25\n",
        "embedded_docs=pad_sequences(onehot_repr,padding='pre',maxlen=sent_length)\n",
        "print(embedded_docs)"
      ]
    },
    {
      "cell_type": "code",
      "execution_count": null,
      "id": "de7750e7",
      "metadata": {
        "id": "de7750e7",
        "outputId": "b8b06ae3-e087-46c1-cbd6-35052a9d51ed"
      },
      "outputs": [
        {
          "data": {
            "text/plain": [
              "array([   0,    0,    0,    0,    0,    0,    0,    0,    0,    0,    0,\n",
              "          0,    0,    0,    0, 4045, 1111, 1500, 1713, 1911,  204, 4552,\n",
              "        121, 4533, 4130], dtype=int32)"
            ]
          },
          "execution_count": 32,
          "metadata": {},
          "output_type": "execute_result"
        }
      ],
      "source": [
        "embedded_docs[0]"
      ]
    },
    {
      "cell_type": "code",
      "execution_count": null,
      "id": "f5fca455",
      "metadata": {
        "scrolled": true,
        "id": "f5fca455",
        "outputId": "642e1e1b-c07a-45aa-86d0-a857c69c14c1"
      },
      "outputs": [
        {
          "name": "stdout",
          "output_type": "stream",
          "text": [
            "Model: \"sequential\"\n",
            "_________________________________________________________________\n",
            " Layer (type)                Output Shape              Param #   \n",
            "=================================================================\n",
            " embedding (Embedding)       (None, 25, 40)            200000    \n",
            "                                                                 \n",
            " lstm (LSTM)                 (None, 100)               56400     \n",
            "                                                                 \n",
            " dense (Dense)               (None, 1)                 101       \n",
            "                                                                 \n",
            "=================================================================\n",
            "Total params: 256501 (1001.96 KB)\n",
            "Trainable params: 256501 (1001.96 KB)\n",
            "Non-trainable params: 0 (0.00 Byte)\n",
            "_________________________________________________________________\n",
            "None\n"
          ]
        }
      ],
      "source": [
        "embedding_vector_features=40\n",
        "model=Sequential()\n",
        "model.add(Embedding(voc_size,embedding_vector_features,input_length=sent_length))\n",
        "model.add(LSTM(100))\n",
        "model.add(Dense(1,activation='sigmoid'))\n",
        "model.compile(loss='binary_crossentropy',optimizer='adam',metrics=['accuracy'])\n",
        "print(model.summary())"
      ]
    },
    {
      "cell_type": "code",
      "execution_count": null,
      "id": "1afe7640",
      "metadata": {
        "id": "1afe7640",
        "outputId": "b1ccfb50-e2ea-4072-9422-afb8d74e97ac"
      },
      "outputs": [
        {
          "data": {
            "text/plain": [
              "(18285, (18285,))"
            ]
          },
          "execution_count": 34,
          "metadata": {},
          "output_type": "execute_result"
        }
      ],
      "source": [
        "len(embedded_docs),y.shape"
      ]
    },
    {
      "cell_type": "code",
      "execution_count": null,
      "id": "e95a400c",
      "metadata": {
        "id": "e95a400c"
      },
      "outputs": [],
      "source": [
        "import numpy as np\n",
        "X_final=np.array(embedded_docs)\n",
        "y_final=np.array(y)"
      ]
    },
    {
      "cell_type": "code",
      "execution_count": null,
      "id": "e86c9fd7",
      "metadata": {
        "id": "e86c9fd7",
        "outputId": "ed04d669-937c-4fb3-df11-1c2d09c7e409"
      },
      "outputs": [
        {
          "data": {
            "text/plain": [
              "((18285, 25), (18285,))"
            ]
          },
          "execution_count": 36,
          "metadata": {},
          "output_type": "execute_result"
        }
      ],
      "source": [
        "X_final.shape,y_final.shape"
      ]
    },
    {
      "cell_type": "code",
      "execution_count": null,
      "id": "fec12b30",
      "metadata": {
        "id": "fec12b30"
      },
      "outputs": [],
      "source": [
        "from sklearn.model_selection import train_test_split\n",
        "X_train, X_test, y_train, y_test = train_test_split(X_final, y_final, test_size=0.33, random_state=42)"
      ]
    },
    {
      "cell_type": "code",
      "execution_count": null,
      "id": "6e5a34fa",
      "metadata": {
        "id": "6e5a34fa",
        "outputId": "bde0218c-68a4-4104-85c9-4e56a158096b"
      },
      "outputs": [
        {
          "name": "stdout",
          "output_type": "stream",
          "text": [
            "Epoch 1/10\n",
            "192/192 [==============================] - 3s 13ms/step - loss: 0.3307 - accuracy: 0.8460 - val_loss: 0.1987 - val_accuracy: 0.9181\n",
            "Epoch 2/10\n",
            "192/192 [==============================] - 2s 13ms/step - loss: 0.1399 - accuracy: 0.9458 - val_loss: 0.1973 - val_accuracy: 0.9233\n",
            "Epoch 3/10\n",
            "192/192 [==============================] - 2s 13ms/step - loss: 0.0964 - accuracy: 0.9647 - val_loss: 0.2394 - val_accuracy: 0.9203\n",
            "Epoch 4/10\n",
            "192/192 [==============================] - 2s 13ms/step - loss: 0.0682 - accuracy: 0.9748 - val_loss: 0.2704 - val_accuracy: 0.9176\n",
            "Epoch 5/10\n",
            "192/192 [==============================] - 2s 13ms/step - loss: 0.0457 - accuracy: 0.9854 - val_loss: 0.3223 - val_accuracy: 0.9115\n",
            "Epoch 6/10\n",
            "192/192 [==============================] - 2s 13ms/step - loss: 0.0266 - accuracy: 0.9915 - val_loss: 0.3577 - val_accuracy: 0.9142\n",
            "Epoch 7/10\n",
            "192/192 [==============================] - 2s 13ms/step - loss: 0.0160 - accuracy: 0.9950 - val_loss: 0.4166 - val_accuracy: 0.9142\n",
            "Epoch 8/10\n",
            "192/192 [==============================] - 2s 13ms/step - loss: 0.0097 - accuracy: 0.9968 - val_loss: 0.4895 - val_accuracy: 0.9158\n",
            "Epoch 9/10\n",
            "192/192 [==============================] - 3s 14ms/step - loss: 0.0070 - accuracy: 0.9976 - val_loss: 0.5053 - val_accuracy: 0.9155\n",
            "Epoch 10/10\n",
            "192/192 [==============================] - 3s 13ms/step - loss: 0.0050 - accuracy: 0.9987 - val_loss: 0.5986 - val_accuracy: 0.9155\n"
          ]
        },
        {
          "data": {
            "text/plain": [
              "<keras.src.callbacks.History at 0x28f0e4dd0>"
            ]
          },
          "execution_count": 38,
          "metadata": {},
          "output_type": "execute_result"
        }
      ],
      "source": [
        "model.fit(X_train,y_train,validation_data=(X_test,y_test),epochs=10,batch_size=64)"
      ]
    },
    {
      "cell_type": "markdown",
      "id": "99c850e4",
      "metadata": {
        "id": "99c850e4"
      },
      "source": [
        "# quantization and dropout"
      ]
    },
    {
      "cell_type": "code",
      "execution_count": null,
      "id": "ef22a240",
      "metadata": {
        "id": "ef22a240",
        "outputId": "33035213-b8ff-460f-df98-012378b1a8eb"
      },
      "outputs": [
        {
          "name": "stdout",
          "output_type": "stream",
          "text": [
            "Model: \"sequential_3\"\n",
            "_________________________________________________________________\n",
            " Layer (type)                Output Shape              Param #   \n",
            "=================================================================\n",
            " embedding_3 (Embedding)     (None, 25, 40)            200000    \n",
            "                                                                 \n",
            " dropout_4 (Dropout)         (None, 25, 40)            0         \n",
            "                                                                 \n",
            " lstm_3 (LSTM)               (None, 100)               56400     \n",
            "                                                                 \n",
            " dropout_5 (Dropout)         (None, 100)               0         \n",
            "                                                                 \n",
            " dense_3 (Dense)             (None, 1)                 101       \n",
            "                                                                 \n",
            "=================================================================\n",
            "Total params: 256501 (1001.96 KB)\n",
            "Trainable params: 256501 (1001.96 KB)\n",
            "Non-trainable params: 0 (0.00 Byte)\n",
            "_________________________________________________________________\n",
            "None\n"
          ]
        }
      ],
      "source": [
        "from tensorflow.keras.layers import Dropout\n",
        "\n",
        "\n",
        "embedding_vector_features=40\n",
        "model=Sequential()\n",
        "model.add(Embedding(voc_size,embedding_vector_features,input_length=sent_length))\n",
        "model.add(Dropout(0.4))\n",
        "model.add(LSTM(100))\n",
        "model.add(Dropout(0.4))\n",
        "model.add(Dense(1,activation='sigmoid'))\n",
        "model.compile(loss='binary_crossentropy',optimizer='adam',metrics=['accuracy'])\n",
        "print(model.summary())"
      ]
    },
    {
      "cell_type": "code",
      "execution_count": null,
      "id": "be5820fb",
      "metadata": {
        "id": "be5820fb",
        "outputId": "a376b62c-9cd9-478a-a7f6-0388271a1883"
      },
      "outputs": [
        {
          "name": "stdout",
          "output_type": "stream",
          "text": [
            "Epoch 1/10\n",
            "192/192 [==============================] - 3s 14ms/step - loss: 0.3518 - accuracy: 0.8263 - val_loss: 0.2016 - val_accuracy: 0.9168\n",
            "Epoch 2/10\n",
            "192/192 [==============================] - 3s 13ms/step - loss: 0.1537 - accuracy: 0.9399 - val_loss: 0.1982 - val_accuracy: 0.9215\n",
            "Epoch 3/10\n",
            "192/192 [==============================] - 3s 13ms/step - loss: 0.1187 - accuracy: 0.9568 - val_loss: 0.2179 - val_accuracy: 0.9211\n",
            "Epoch 4/10\n",
            "192/192 [==============================] - 2s 13ms/step - loss: 0.0945 - accuracy: 0.9649 - val_loss: 0.2303 - val_accuracy: 0.9173\n",
            "Epoch 5/10\n",
            "192/192 [==============================] - 3s 13ms/step - loss: 0.0749 - accuracy: 0.9730 - val_loss: 0.2363 - val_accuracy: 0.9175\n",
            "Epoch 6/10\n",
            "192/192 [==============================] - 3s 13ms/step - loss: 0.0605 - accuracy: 0.9781 - val_loss: 0.2962 - val_accuracy: 0.9198\n",
            "Epoch 7/10\n",
            "192/192 [==============================] - 3s 13ms/step - loss: 0.0475 - accuracy: 0.9827 - val_loss: 0.3137 - val_accuracy: 0.9153\n",
            "Epoch 8/10\n",
            "192/192 [==============================] - 2s 13ms/step - loss: 0.0390 - accuracy: 0.9872 - val_loss: 0.3861 - val_accuracy: 0.9117\n",
            "Epoch 9/10\n",
            "192/192 [==============================] - 3s 14ms/step - loss: 0.0327 - accuracy: 0.9889 - val_loss: 0.4342 - val_accuracy: 0.9188\n",
            "Epoch 10/10\n",
            "192/192 [==============================] - 3s 13ms/step - loss: 0.0275 - accuracy: 0.9909 - val_loss: 0.4256 - val_accuracy: 0.9054\n"
          ]
        },
        {
          "data": {
            "text/plain": [
              "<keras.src.callbacks.History at 0x293165a10>"
            ]
          },
          "execution_count": 43,
          "metadata": {},
          "output_type": "execute_result"
        }
      ],
      "source": [
        "model.fit(X_train,y_train,validation_data=(X_test,y_test),epochs=10,batch_size=64)"
      ]
    },
    {
      "cell_type": "code",
      "execution_count": null,
      "id": "207a285a",
      "metadata": {
        "id": "207a285a",
        "outputId": "ea13cc61-7ef0-4862-a0ad-8a7b4f9667a6"
      },
      "outputs": [
        {
          "name": "stdout",
          "output_type": "stream",
          "text": [
            "189/189 [==============================] - 0s 2ms/step - loss: 0.4256 - accuracy: 0.9054\n"
          ]
        },
        {
          "data": {
            "text/plain": [
              "[0.4255804717540741, 0.9053852558135986]"
            ]
          },
          "execution_count": 44,
          "metadata": {},
          "output_type": "execute_result"
        }
      ],
      "source": [
        "model.evaluate(X_test,y_test)"
      ]
    },
    {
      "cell_type": "code",
      "execution_count": null,
      "id": "79974598",
      "metadata": {
        "id": "79974598",
        "outputId": "64c3c002-8987-4081-f29e-caad9751feb5"
      },
      "outputs": [
        {
          "name": "stdout",
          "output_type": "stream",
          "text": [
            "INFO:tensorflow:Assets written to: ./saved_model/assets\n"
          ]
        },
        {
          "name": "stderr",
          "output_type": "stream",
          "text": [
            "INFO:tensorflow:Assets written to: ./saved_model/assets\n"
          ]
        }
      ],
      "source": [
        "model.save(\"./saved_model\")"
      ]
    },
    {
      "cell_type": "code",
      "execution_count": 5,
      "id": "11edea4b",
      "metadata": {
        "id": "11edea4b"
      },
      "outputs": [],
      "source": [
        "import tensorflow as tf\n",
        "\n",
        "def representative_dataset_gen():\n",
        "    for _ in range(num_calibration_steps):\n",
        "        yield [input]\n",
        "\n",
        "converter = tf.lite.TFLiteConverter.from_saved_model(\"./saved_model\")\n",
        "converter.optimizations = [tf.lite.Optimize.DEFAULT]\n",
        "converter.representative_dataset = representative_dataset_gen\n",
        "tflite_quant_model = converter.convert()"
      ]
    },
    {
      "cell_type": "code",
      "execution_count": null,
      "id": "03591bc2",
      "metadata": {
        "id": "03591bc2"
      },
      "outputs": [],
      "source": [
        "with open(\"tflite_quant_model.tflite\", \"wb\") as f:\n",
        "    f.write(tflite_quant_model)"
      ]
    },
    {
      "cell_type": "code",
      "execution_count": null,
      "id": "7f016ba9",
      "metadata": {
        "id": "7f016ba9"
      },
      "outputs": [],
      "source": []
    },
    {
      "cell_type": "code",
      "execution_count": null,
      "id": "bd7150dd",
      "metadata": {
        "id": "bd7150dd"
      },
      "outputs": [],
      "source": []
    },
    {
      "cell_type": "code",
      "execution_count": null,
      "id": "be23bb0a",
      "metadata": {
        "id": "be23bb0a"
      },
      "outputs": [],
      "source": []
    }
  ],
  "metadata": {
    "kernelspec": {
      "display_name": "Python 3 (ipykernel)",
      "language": "python",
      "name": "python3"
    },
    "language_info": {
      "codemirror_mode": {
        "name": "ipython",
        "version": 3
      },
      "file_extension": ".py",
      "mimetype": "text/x-python",
      "name": "python",
      "nbconvert_exporter": "python",
      "pygments_lexer": "ipython3",
      "version": "3.11.5"
    },
    "colab": {
      "provenance": [],
      "include_colab_link": true
    }
  },
  "nbformat": 4,
  "nbformat_minor": 5
}